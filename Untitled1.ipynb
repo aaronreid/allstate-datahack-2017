{
 "cells": [
  {
   "cell_type": "code",
   "execution_count": 30,
   "metadata": {
    "collapsed": false
   },
   "outputs": [
    {
     "name": "stdout",
     "output_type": "stream",
     "text": [
      "Food type has a data type of:  object\n",
      "Burglary has a data type of:   float64\n",
      "Ward has a data type of:       float64\n",
      "Sanitation has a data type of: float64\n",
      "\n",
      "  foodType  dinner  mart  unknown\n",
      "0     mart       0     1        0\n",
      "1  unknown       0     0        1\n",
      "2   dinner       1     0        0\n",
      "3   dinner       1     0        0\n",
      "4  unknown       0     0        1\n",
      "\n",
      "Food type has:  0  missing values\n",
      "Burglary has:   0  missing values\n",
      "Ward has:       32 missing values\n",
      "Sanitation has: 0  missing values\n"
     ]
    },
    {
     "ename": "ValueError",
     "evalue": "Parameter values for parameter (n_estimators) need to be a sequence.",
     "output_type": "error",
     "traceback": [
      "\u001b[0;31m---------------------------------------------------------------------------\u001b[0m",
      "\u001b[0;31mValueError\u001b[0m                                Traceback (most recent call last)",
      "\u001b[0;32m<ipython-input-30-55fdcadca537>\u001b[0m in \u001b[0;36m<module>\u001b[0;34m()\u001b[0m\n\u001b[1;32m     67\u001b[0m                                       \u001b[0miid\u001b[0m \u001b[1;33m=\u001b[0m \u001b[1;32mFalse\u001b[0m\u001b[1;33m,\u001b[0m\u001b[1;33m\u001b[0m\u001b[0m\n\u001b[1;32m     68\u001b[0m                                       \u001b[0mverbose\u001b[0m \u001b[1;33m=\u001b[0m \u001b[1;36m2\u001b[0m\u001b[1;33m,\u001b[0m\u001b[1;33m\u001b[0m\u001b[0m\n\u001b[0;32m---> 69\u001b[0;31m                                       cv = 5)\n\u001b[0m\u001b[1;32m     70\u001b[0m \u001b[1;33m\u001b[0m\u001b[0m\n\u001b[1;32m     71\u001b[0m \u001b[0mgrid_model\u001b[0m\u001b[1;33m.\u001b[0m\u001b[0mfit\u001b[0m\u001b[1;33m(\u001b[0m\u001b[0mX\u001b[0m\u001b[1;33m,\u001b[0m \u001b[0my\u001b[0m\u001b[1;33m)\u001b[0m\u001b[1;33m\u001b[0m\u001b[0m\n",
      "\u001b[0;32mC:\\Users\\Aaron\\Anaconda3\\lib\\site-packages\\sklearn\\grid_search.py\u001b[0m in \u001b[0;36m__init__\u001b[0;34m(self, estimator, param_grid, scoring, fit_params, n_jobs, iid, refit, cv, verbose, pre_dispatch, error_score)\u001b[0m\n\u001b[1;32m    810\u001b[0m             refit, cv, verbose, pre_dispatch, error_score)\n\u001b[1;32m    811\u001b[0m         \u001b[0mself\u001b[0m\u001b[1;33m.\u001b[0m\u001b[0mparam_grid\u001b[0m \u001b[1;33m=\u001b[0m \u001b[0mparam_grid\u001b[0m\u001b[1;33m\u001b[0m\u001b[0m\n\u001b[0;32m--> 812\u001b[0;31m         \u001b[0m_check_param_grid\u001b[0m\u001b[1;33m(\u001b[0m\u001b[0mparam_grid\u001b[0m\u001b[1;33m)\u001b[0m\u001b[1;33m\u001b[0m\u001b[0m\n\u001b[0m\u001b[1;32m    813\u001b[0m \u001b[1;33m\u001b[0m\u001b[0m\n\u001b[1;32m    814\u001b[0m     \u001b[1;32mdef\u001b[0m \u001b[0mfit\u001b[0m\u001b[1;33m(\u001b[0m\u001b[0mself\u001b[0m\u001b[1;33m,\u001b[0m \u001b[0mX\u001b[0m\u001b[1;33m,\u001b[0m \u001b[0my\u001b[0m\u001b[1;33m=\u001b[0m\u001b[1;32mNone\u001b[0m\u001b[1;33m)\u001b[0m\u001b[1;33m:\u001b[0m\u001b[1;33m\u001b[0m\u001b[0m\n",
      "\u001b[0;32mC:\\Users\\Aaron\\Anaconda3\\lib\\site-packages\\sklearn\\grid_search.py\u001b[0m in \u001b[0;36m_check_param_grid\u001b[0;34m(param_grid)\u001b[0m\n\u001b[1;32m    346\u001b[0m             \u001b[1;32mif\u001b[0m \u001b[1;32mTrue\u001b[0m \u001b[1;32mnot\u001b[0m \u001b[1;32min\u001b[0m \u001b[0mcheck\u001b[0m\u001b[1;33m:\u001b[0m\u001b[1;33m\u001b[0m\u001b[0m\n\u001b[1;32m    347\u001b[0m                 raise ValueError(\"Parameter values for parameter ({0}) need \"\n\u001b[0;32m--> 348\u001b[0;31m                                  \"to be a sequence.\".format(name))\n\u001b[0m\u001b[1;32m    349\u001b[0m \u001b[1;33m\u001b[0m\u001b[0m\n\u001b[1;32m    350\u001b[0m             \u001b[1;32mif\u001b[0m \u001b[0mlen\u001b[0m\u001b[1;33m(\u001b[0m\u001b[0mv\u001b[0m\u001b[1;33m)\u001b[0m \u001b[1;33m==\u001b[0m \u001b[1;36m0\u001b[0m\u001b[1;33m:\u001b[0m\u001b[1;33m\u001b[0m\u001b[0m\n",
      "\u001b[0;31mValueError\u001b[0m: Parameter values for parameter (n_estimators) need to be a sequence."
     ]
    }
   ],
   "source": [
    "#import statements\n",
    "from sklearn import ensemble\n",
    "from sklearn import grid_search\n",
    "\n",
    "import pandas as pd\n",
    "import numpy as np\n",
    "\n",
    "\n",
    "#read files\n",
    "train = pd.read_csv('trainingData.csv')\n",
    "test = pd.read_csv('testingData.csv')\n",
    "\n",
    "#Log Loss quantifies the accuracy of a classifier by penalising false classifications.\n",
    "def log_loss_binary(actual, predicted, eps = 1e-15):\n",
    "    predicted = np.minimum(np.maximum(predicted, eps), 1 - eps)\n",
    "    \n",
    "    return -(sum(actual * np.log(predicted) + (1. - actual) * np.log(1. - predicted))) / len(actual)\n",
    "\n",
    "#check data types\n",
    "print('Food type has a data type of:  ' + str(train['foodType'].dtype))\n",
    "print( 'Burglary has a data type of:   ' + str(train['burglary'].dtype))\n",
    "print ('Ward has a data type of:       ' + str(train['ward'].dtype))\n",
    "print ('Sanitation has a data type of: ' + str(train['sanitation'].dtype))\n",
    "\n",
    "print (\"\")\n",
    "\n",
    "#return dummy head data\n",
    "dummy_data = pd.get_dummies(train['foodType'].head())\n",
    "\n",
    "#concatenate dummy foodtype data plotted against foodtype head data\n",
    "print (pd.concat([train['foodType'].head(), dummy_data], axis = 1))\n",
    "\n",
    "#get dummy data\n",
    "dummy_train = pd.get_dummies(train['foodType'])\n",
    "\n",
    "print (\"\")\n",
    "\n",
    "#check clean data\n",
    "print ('Food type has:  ' + str(sum(train['foodType'].isnull()))   + '  missing values')\n",
    "print ('Burglary has:   ' + str(sum(train['burglary'].isnull()))   + '  missing values')\n",
    "print ('Ward has:       ' + str(sum(train['ward'].isnull()))       + ' missing values')\n",
    "print ('Sanitation has: ' + str(sum(train['sanitation'].isnull())) + '  missing values')\n",
    "\n",
    "#create a missing indicator and then set missings to an imputed or arbitrary value.\n",
    "train['ward_missing'] = 1. * (train['ward'].isnull())\n",
    "\n",
    "train.loc[train['ward_missing'] == 1, 'ward'] = 0.\n",
    "\n",
    "#Fit GBM\n",
    "baseline_model = ensemble.GradientBoostingRegressor(\n",
    "                                                    loss = 'ls', \n",
    "                                                    learning_rate = 0.1, \n",
    "                                                    subsample = 0.7,  \n",
    "                                                    min_samples_leaf = 5, \n",
    "                                                    max_depth = 5\n",
    "                                                   )\n",
    "\n",
    "numeric_predictors = ['burglary', 'ward', 'sanitation', 'ward_missing']\n",
    "\n",
    "X = pd.concat([dummy_train, train[numeric_predictors]], axis = 1)\n",
    "y = train['response']\n",
    "\n",
    "trees_to_search_over = {'n_estimators': range(100, 401, 100)}\n",
    "grid_model = grid_search.GridSearchCV(estimator = baseline_model, \n",
    "                                      param_grid = trees_to_search_over, \n",
    "                                      n_jobs = 4,\n",
    "                                      iid = False, \n",
    "                                      verbose = 2,\n",
    "                                      cv = 5)\n",
    "\n",
    "grid_model.fit(X, y)\n",
    "\n",
    "# print out the best cv fold combination:\"\n",
    "print ('Best parameter combinations:' + str(grid_model.best_params_))\n",
    "\n",
    "# fit the estimator with the best cv fold combination:\n",
    "grid_model.estimator.fit(X, y)"
   ]
  },
  {
   "cell_type": "code",
   "execution_count": null,
   "metadata": {
    "collapsed": true
   },
   "outputs": [],
   "source": []
  }
 ],
 "metadata": {
  "kernelspec": {
   "display_name": "Python 3",
   "language": "python",
   "name": "python3"
  },
  "language_info": {
   "codemirror_mode": {
    "name": "ipython",
    "version": 3
   },
   "file_extension": ".py",
   "mimetype": "text/x-python",
   "name": "python",
   "nbconvert_exporter": "python",
   "pygments_lexer": "ipython3",
   "version": "3.6.0"
  }
 },
 "nbformat": 4,
 "nbformat_minor": 2
}
