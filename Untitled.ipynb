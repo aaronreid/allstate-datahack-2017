{
 "cells": [
  {
   "cell_type": "raw",
   "metadata": {},
   "source": []
  },
  {
   "cell_type": "code",
   "execution_count": 12,
   "metadata": {
    "collapsed": false
   },
   "outputs": [
    {
     "data": {
      "image/png": "[encoded data removed]",
      "text/plain": [
       "<matplotlib.figure.Figure at 0x2a1038c77f0>"
      ]
     },
     "metadata": {},
     "output_type": "display_data"
    }
   ],
   "source": [
    "#import statements\n",
    "import os\n",
    "import pandas as pd\n",
    "import matplotlib.pyplot as plt\n",
    "import numpy as np\n",
    "\n",
    "%matplotlib inline\n",
    "\n",
    "\n",
    "#assign path to variable\n",
    "path = \"/Users/Aaron/OneDrive/Documents/Hackathons/Allstate_Datahack_06-04-17\"\n",
    "\n",
    "#set to working directory\n",
    "os.chdir(path)\n",
    "\n",
    "#check for files in dir\n",
    "list(x in os.listdir('.') for x in ['trainingData.csv', 'testingData.csv'])\n",
    "\n",
    "#read the file\n",
    "train = pd.read_csv('trainingData.csv')\n",
    "\n",
    "#execute head method on train data\n",
    "train.head()\n",
    "\n",
    "#plot a histogram of rodents\n",
    "train.rodents.plot.hist()\n",
    "plt.title('Histogram of rodents')\n",
    "\n",
    "#select burglar column and return description\n",
    "#passes back range of features eg. data type, min max, mean. \n",
    "train.burglary.describe()\n",
    "\n",
    "#read test file\n",
    "test = pd.read_csv('testingData.csv')\n",
    "\n",
    "#execute head method on test data\n",
    "test.head()\n",
    "\n",
    "#plot density of garbage\n",
    "train.garbage.plot.density()\n",
    "plt.title('Density of garbage')\n",
    "\n",
    "#return dimensions of the array (shape method)\n",
    "train.shape\n",
    "\n",
    "#return dimensions of the array (shape method)\n",
    "test.shape\n",
    "\n",
    "#Determine which column is contained in the training set and not in the testing set\n",
    "is_column_missing = list(column not in test.columns for column in train.columns)\n",
    "train.columns[is_column_missing]\n",
    "\n",
    "#generate random uniform numbers and use them for predictions\n",
    "numberOfObservationsInTestSet = len(test.index)\n",
    "arrayOfPredictions = np.random.rand(numberOfObservationsInTestSet)\n",
    "\n",
    "#calculate percentile quarters \n",
    "np.percentile(arrayOfPredictions, [0, 25, 50, 75, 100])\n",
    "\n",
    "#creates data frame containing relevant columns\n",
    "outputDataSet = pd.DataFrame({'inspectionId': test.inspectionId,\n",
    "                              'response': arrayOfPredictions\n",
    "                             })\n",
    "\n",
    "#inspect data before export\n",
    "outputDataSet.head()\n",
    "\n",
    "#output comma separated file to current working directory \n",
    "outputDataSet.to_csv('submissionExample.csv', index = False)\n",
    "\n"
   ]
  },
  {
   "cell_type": "code",
   "execution_count": null,
   "metadata": {
    "collapsed": true
   },
   "outputs": [],
   "source": []
  }
 ],
 "metadata": {
  "kernelspec": {
   "display_name": "Python 3",
   "language": "python",
   "name": "python3"
  },
  "language_info": {
   "codemirror_mode": {
    "name": "ipython",
    "version": 3
   },
   "file_extension": ".py",
   "mimetype": "text/x-python",
   "name": "python",
   "nbconvert_exporter": "python",
   "pygments_lexer": "ipython3",
   "version": "3.6.0"
  }
 },
 "nbformat": 4,
 "nbformat_minor": 2
}
